{
 "cells": [
  {
   "cell_type": "code",
   "execution_count": 1,
   "id": "81dbe459",
   "metadata": {},
   "outputs": [],
   "source": [
    "import pycave\n",
    "from pycave.clustering import KMeans\n",
    "import numpy as np\n",
    "import torch\n"
   ]
  },
  {
   "attachments": {},
   "cell_type": "markdown",
   "id": "2b7d054a",
   "metadata": {},
   "source": [
    "## Setting input output directory\n"
   ]
  },
  {
   "cell_type": "code",
   "execution_count": 2,
   "id": "782a7746",
   "metadata": {},
   "outputs": [],
   "source": [
    "import glob\n",
    "directory = \"../output/xenium/fullPanel/graphs/3NB/xenium_subgraph3NB5000_aug2023/dmax3.0/3.0/min10/\"\n",
    "pattern = \"*_node_meta.csv\"  # Replace with your desired pattern\n",
    "files = glob.glob(f\"{directory}/{pattern}\")\n"
   ]
  },
  {
   "cell_type": "code",
   "execution_count": 3,
   "id": "e24d0f03",
   "metadata": {},
   "outputs": [
    {
     "data": {
      "text/plain": [
       "['../output/xenium/fullPanel/graphs/3NB/xenium_subgraph3NB5000_aug2023/dmax3.0/min10/THD0011_TMA4_node_meta.csv',\n",
       " '../output/xenium/fullPanel/graphs/3NB/xenium_subgraph3NB5000_aug2023/dmax3.0/min10/VUILD91LF_TMA4_node_meta.csv',\n",
       " '../output/xenium/fullPanel/graphs/3NB/xenium_subgraph3NB5000_aug2023/dmax3.0/min10/VUILD78MF_TMA4_node_meta.csv',\n",
       " '../output/xenium/fullPanel/graphs/3NB/xenium_subgraph3NB5000_aug2023/dmax3.0/min10/VUILD115_TMA3_node_meta.csv',\n",
       " '../output/xenium/fullPanel/graphs/3NB/xenium_subgraph3NB5000_aug2023/dmax3.0/min10/VUHD116B_TMA1_node_meta.csv',\n",
       " '../output/xenium/fullPanel/graphs/3NB/xenium_subgraph3NB5000_aug2023/dmax3.0/min10/VUHD095_TMA2_node_meta.csv',\n",
       " '../output/xenium/fullPanel/graphs/3NB/xenium_subgraph3NB5000_aug2023/dmax3.0/min10/VUHD116A_TMA1_node_meta.csv',\n",
       " '../output/xenium/fullPanel/graphs/3NB/xenium_subgraph3NB5000_aug2023/dmax3.0/min10/VUILD104LF_TMA2_node_meta.csv',\n",
       " '../output/xenium/fullPanel/graphs/3NB/xenium_subgraph3NB5000_aug2023/dmax3.0/min10/VUHD069_TMA2_node_meta.csv',\n",
       " '../output/xenium/fullPanel/graphs/3NB/xenium_subgraph3NB5000_aug2023/dmax3.0/min10/VUILD48MF_TMA2_node_meta.csv',\n",
       " '../output/xenium/fullPanel/graphs/3NB/xenium_subgraph3NB5000_aug2023/dmax3.0/min10/VUILD104MF_TMA2_node_meta.csv',\n",
       " '../output/xenium/fullPanel/graphs/3NB/xenium_subgraph3NB5000_aug2023/dmax3.0/min10/VUILD78LF_TMA4_node_meta.csv',\n",
       " '../output/xenium/fullPanel/graphs/3NB/xenium_subgraph3NB5000_aug2023/dmax3.0/min10/VUILD105LF_TMA2_node_meta.csv',\n",
       " '../output/xenium/fullPanel/graphs/3NB/xenium_subgraph3NB5000_aug2023/dmax3.0/min10/VUHD113_TMA2_node_meta.csv',\n",
       " '../output/xenium/fullPanel/graphs/3NB/xenium_subgraph3NB5000_aug2023/dmax3.0/min10/TILD117LF_TMA4_node_meta.csv',\n",
       " '../output/xenium/fullPanel/graphs/3NB/xenium_subgraph3NB5000_aug2023/dmax3.0/min10/VUILD105MF_TMA2_node_meta.csv',\n",
       " '../output/xenium/fullPanel/graphs/3NB/xenium_subgraph3NB5000_aug2023/dmax3.0/min10/VUILD48LF_TMA2_node_meta.csv',\n",
       " '../output/xenium/fullPanel/graphs/3NB/xenium_subgraph3NB5000_aug2023/dmax3.0/min10/VUILD102LF_TMA1_node_meta.csv',\n",
       " '../output/xenium/fullPanel/graphs/3NB/xenium_subgraph3NB5000_aug2023/dmax3.0/min10/THD0008_TMA3_node_meta.csv',\n",
       " '../output/xenium/fullPanel/graphs/3NB/xenium_subgraph3NB5000_aug2023/dmax3.0/min10/VUILD96LF_TMA1_node_meta.csv',\n",
       " '../output/xenium/fullPanel/graphs/3NB/xenium_subgraph3NB5000_aug2023/dmax3.0/min10/VUILD96MF_TMA1_node_meta.csv',\n",
       " '../output/xenium/fullPanel/graphs/3NB/xenium_subgraph3NB5000_aug2023/dmax3.0/min10/TILD175_TMA4_node_meta.csv',\n",
       " '../output/xenium/fullPanel/graphs/3NB/xenium_subgraph3NB5000_aug2023/dmax3.0/min10/VUILD91MF_TMA4_node_meta.csv',\n",
       " '../output/xenium/fullPanel/graphs/3NB/xenium_subgraph3NB5000_aug2023/dmax3.0/min10/VUILD106_TMA3_node_meta.csv',\n",
       " '../output/xenium/fullPanel/graphs/3NB/xenium_subgraph3NB5000_aug2023/dmax3.0/min10/VUILD102MF_TMA1_node_meta.csv',\n",
       " '../output/xenium/fullPanel/graphs/3NB/xenium_subgraph3NB5000_aug2023/dmax3.0/min10/VUILD110_TMA3_node_meta.csv',\n",
       " '../output/xenium/fullPanel/graphs/3NB/xenium_subgraph3NB5000_aug2023/dmax3.0/min10/TILD117MF_TMA4_node_meta.csv',\n",
       " '../output/xenium/fullPanel/graphs/3NB/xenium_subgraph3NB5000_aug2023/dmax3.0/min10/VUILD107MF_TMA1_node_meta.csv']"
      ]
     },
     "execution_count": 3,
     "metadata": {},
     "output_type": "execute_result"
    }
   ],
   "source": [
    "files"
   ]
  },
  {
   "cell_type": "code",
   "execution_count": 4,
   "id": "4b165e3c",
   "metadata": {},
   "outputs": [
    {
     "data": {
      "text/plain": [
       "28"
      ]
     },
     "execution_count": 4,
     "metadata": {},
     "output_type": "execute_result"
    }
   ],
   "source": [
    "len(files)"
   ]
  },
  {
   "cell_type": "code",
   "execution_count": 5,
   "id": "02241acd",
   "metadata": {},
   "outputs": [],
   "source": [
    "sample_names = [f_name.split(\"/\")[-1] for f_name in files]"
   ]
  },
  {
   "cell_type": "code",
   "execution_count": 6,
   "id": "eca829c9",
   "metadata": {},
   "outputs": [],
   "source": [
    "tmas = [f_name.split(\"_\")[1] for f_name in sample_names]\n",
    "\n",
    "sample_names = [f_name.split(\"_\")[0] for f_name in sample_names]\n"
   ]
  },
  {
   "cell_type": "code",
   "execution_count": 7,
   "id": "5cdc6ee6",
   "metadata": {},
   "outputs": [
    {
     "data": {
      "text/plain": [
       "['TMA4',\n",
       " 'TMA4',\n",
       " 'TMA4',\n",
       " 'TMA3',\n",
       " 'TMA1',\n",
       " 'TMA2',\n",
       " 'TMA1',\n",
       " 'TMA2',\n",
       " 'TMA2',\n",
       " 'TMA2',\n",
       " 'TMA2',\n",
       " 'TMA4',\n",
       " 'TMA2',\n",
       " 'TMA2',\n",
       " 'TMA4',\n",
       " 'TMA2',\n",
       " 'TMA2',\n",
       " 'TMA1',\n",
       " 'TMA3',\n",
       " 'TMA1',\n",
       " 'TMA1',\n",
       " 'TMA4',\n",
       " 'TMA4',\n",
       " 'TMA3',\n",
       " 'TMA1',\n",
       " 'TMA3',\n",
       " 'TMA4',\n",
       " 'TMA1',\n",
       " 'THD0011',\n",
       " 'VUILD91LF',\n",
       " 'VUILD78MF',\n",
       " 'VUILD115',\n",
       " 'VUHD116B',\n",
       " 'VUHD095',\n",
       " 'VUHD116A',\n",
       " 'VUILD104LF',\n",
       " 'VUHD069',\n",
       " 'VUILD48MF',\n",
       " 'VUILD104MF',\n",
       " 'VUILD78LF',\n",
       " 'VUILD105LF',\n",
       " 'VUHD113',\n",
       " 'TILD117LF',\n",
       " 'VUILD105MF',\n",
       " 'VUILD48LF',\n",
       " 'VUILD102LF',\n",
       " 'THD0008',\n",
       " 'VUILD96LF',\n",
       " 'VUILD96MF',\n",
       " 'TILD175',\n",
       " 'VUILD91MF',\n",
       " 'VUILD106',\n",
       " 'VUILD102MF',\n",
       " 'VUILD110',\n",
       " 'TILD117MF',\n",
       " 'VUILD107MF']"
      ]
     },
     "execution_count": 7,
     "metadata": {},
     "output_type": "execute_result"
    }
   ],
   "source": [
    "tmas + sample_names"
   ]
  },
  {
   "cell_type": "code",
   "execution_count": 8,
   "id": "538bf988",
   "metadata": {},
   "outputs": [],
   "source": [
    "X_list = []\n",
    "npy_files = [x +\"_50_embeddings_\" +y +\".npy\" for x,y in zip(sample_names,tmas)]"
   ]
  },
  {
   "cell_type": "code",
   "execution_count": 9,
   "id": "b8b52dc0",
   "metadata": {},
   "outputs": [
    {
     "data": {
      "text/plain": [
       "['THD0011_50_embeddings_TMA4.npy',\n",
       " 'VUILD91LF_50_embeddings_TMA4.npy',\n",
       " 'VUILD78MF_50_embeddings_TMA4.npy',\n",
       " 'VUILD115_50_embeddings_TMA3.npy',\n",
       " 'VUHD116B_50_embeddings_TMA1.npy',\n",
       " 'VUHD095_50_embeddings_TMA2.npy',\n",
       " 'VUHD116A_50_embeddings_TMA1.npy',\n",
       " 'VUILD104LF_50_embeddings_TMA2.npy',\n",
       " 'VUHD069_50_embeddings_TMA2.npy',\n",
       " 'VUILD48MF_50_embeddings_TMA2.npy',\n",
       " 'VUILD104MF_50_embeddings_TMA2.npy',\n",
       " 'VUILD78LF_50_embeddings_TMA4.npy',\n",
       " 'VUILD105LF_50_embeddings_TMA2.npy',\n",
       " 'VUHD113_50_embeddings_TMA2.npy',\n",
       " 'TILD117LF_50_embeddings_TMA4.npy',\n",
       " 'VUILD105MF_50_embeddings_TMA2.npy',\n",
       " 'VUILD48LF_50_embeddings_TMA2.npy',\n",
       " 'VUILD102LF_50_embeddings_TMA1.npy',\n",
       " 'THD0008_50_embeddings_TMA3.npy',\n",
       " 'VUILD96LF_50_embeddings_TMA1.npy',\n",
       " 'VUILD96MF_50_embeddings_TMA1.npy',\n",
       " 'TILD175_50_embeddings_TMA4.npy',\n",
       " 'VUILD91MF_50_embeddings_TMA4.npy',\n",
       " 'VUILD106_50_embeddings_TMA3.npy',\n",
       " 'VUILD102MF_50_embeddings_TMA1.npy',\n",
       " 'VUILD110_50_embeddings_TMA3.npy',\n",
       " 'TILD117MF_50_embeddings_TMA4.npy',\n",
       " 'VUILD107MF_50_embeddings_TMA1.npy']"
      ]
     },
     "execution_count": 9,
     "metadata": {},
     "output_type": "execute_result"
    }
   ],
   "source": [
    "npy_files "
   ]
  },
  {
   "cell_type": "code",
   "execution_count": 10,
   "id": "86fd86c8",
   "metadata": {},
   "outputs": [],
   "source": [
    "npy_dir = directory\n",
    "X_list = [np.load(npy_dir+npy) for npy in npy_files]"
   ]
  },
  {
   "cell_type": "code",
   "execution_count": 11,
   "id": "0017fa44",
   "metadata": {},
   "outputs": [
    {
     "data": {
      "text/plain": [
       "[(2944572, 50),\n",
       " (4184337, 50),\n",
       " (3737465, 50),\n",
       " (14091590, 50),\n",
       " (4125173, 50),\n",
       " (1455358, 50),\n",
       " (2125274, 50),\n",
       " (5977356, 50),\n",
       " (2957813, 50),\n",
       " (5534850, 50),\n",
       " (6090235, 50),\n",
       " (3293796, 50),\n",
       " (4505242, 50),\n",
       " (2153994, 50),\n",
       " (7524819, 50),\n",
       " (3265054, 50),\n",
       " (3791983, 50),\n",
       " (6614977, 50),\n",
       " (11557365, 50),\n",
       " (8659342, 50),\n",
       " (10679383, 50),\n",
       " (7445453, 50),\n",
       " (6629643, 50),\n",
       " (20816830, 50),\n",
       " (11370051, 50),\n",
       " (21754877, 50),\n",
       " (10475699, 50),\n",
       " (12686533, 50)]"
      ]
     },
     "execution_count": 11,
     "metadata": {},
     "output_type": "execute_result"
    }
   ],
   "source": [
    "[x.shape for x in X_list]"
   ]
  },
  {
   "cell_type": "code",
   "execution_count": 12,
   "id": "78bf5d27",
   "metadata": {},
   "outputs": [],
   "source": [
    "X = np.concatenate(X_list)"
   ]
  },
  {
   "cell_type": "code",
   "execution_count": 13,
   "id": "4191912a",
   "metadata": {},
   "outputs": [
    {
     "data": {
      "text/plain": [
       "(206449064, 50)"
      ]
     },
     "execution_count": 13,
     "metadata": {},
     "output_type": "execute_result"
    }
   ],
   "source": [
    "X.shape"
   ]
  },
  {
   "cell_type": "code",
   "execution_count": 14,
   "id": "d2ca90f5",
   "metadata": {},
   "outputs": [
    {
     "data": {
      "text/plain": [
       "[2944572,\n",
       " 4184337,\n",
       " 3737465,\n",
       " 14091590,\n",
       " 4125173,\n",
       " 1455358,\n",
       " 2125274,\n",
       " 5977356,\n",
       " 2957813,\n",
       " 5534850,\n",
       " 6090235,\n",
       " 3293796,\n",
       " 4505242,\n",
       " 2153994,\n",
       " 7524819,\n",
       " 3265054,\n",
       " 3791983,\n",
       " 6614977,\n",
       " 11557365,\n",
       " 8659342,\n",
       " 10679383,\n",
       " 7445453,\n",
       " 6629643,\n",
       " 20816830,\n",
       " 11370051,\n",
       " 21754877,\n",
       " 10475699,\n",
       " 12686533]"
      ]
     },
     "execution_count": 14,
     "metadata": {},
     "output_type": "execute_result"
    }
   ],
   "source": [
    "sample_size = [x.shape[0] for x in X_list]\n",
    "sample_size"
   ]
  },
  {
   "cell_type": "code",
   "execution_count": 15,
   "id": "7b3caec2",
   "metadata": {},
   "outputs": [],
   "source": [
    "from  pycave.bayes import GaussianMixture\n",
    "import random\n",
    "#import matplotlib.pyplot as plt\n",
    "import pathlib"
   ]
  },
  {
   "cell_type": "code",
   "execution_count": 16,
   "id": "f8307f28",
   "metadata": {},
   "outputs": [
    {
     "name": "stdout",
     "output_type": "stream",
     "text": [
      "['sm_37', 'sm_50', 'sm_60', 'sm_70', 'sm_75', 'sm_80', 'sm_86']\n"
     ]
    }
   ],
   "source": [
    "print(torch.cuda.get_arch_list())"
   ]
  },
  {
   "cell_type": "code",
   "execution_count": 17,
   "id": "ae943f20",
   "metadata": {},
   "outputs": [
    {
     "name": "stdout",
     "output_type": "stream",
     "text": [
      "0\n"
     ]
    }
   ],
   "source": [
    "print(torch.cuda.current_device())"
   ]
  },
  {
   "cell_type": "code",
   "execution_count": 18,
   "id": "6ff77e82",
   "metadata": {},
   "outputs": [
    {
     "name": "stderr",
     "output_type": "stream",
     "text": [
      "Fitting K-means estimator...\n",
      "Running initialization...\n"
     ]
    },
    {
     "name": "stdout",
     "output_type": "stream",
     "text": [
      "Epoch 12: 100%|██████████| 14/14 [00:06<00:00,  2.32it/s]\n"
     ]
    },
    {
     "name": "stderr",
     "output_type": "stream",
     "text": [
      "Fitting K-Means...\n",
      "Running initialization...\n"
     ]
    },
    {
     "name": "stdout",
     "output_type": "stream",
     "text": [
      "Epoch 0: 100%|██████████| 14/14 [00:05<00:00,  2.73it/s]"
     ]
    },
    {
     "name": "stderr",
     "output_type": "stream",
     "text": [
      "Fitting Gaussian mixture...\n"
     ]
    },
    {
     "name": "stdout",
     "output_type": "stream",
     "text": [
      "\n",
      "Epoch 36: 100%|██████████| 14/14 [00:04<00:00,  2.96it/s, nll=-47.4]"
     ]
    },
    {
     "name": "stderr",
     "output_type": "stream",
     "text": [
      "Fitting K-means estimator...\n"
     ]
    },
    {
     "name": "stdout",
     "output_type": "stream",
     "text": [
      "\n"
     ]
    },
    {
     "name": "stderr",
     "output_type": "stream",
     "text": [
      "Running initialization...\n"
     ]
    },
    {
     "name": "stdout",
     "output_type": "stream",
     "text": [
      "Epoch 14: 100%|██████████| 14/14 [00:06<00:00,  2.31it/s]\n"
     ]
    },
    {
     "name": "stderr",
     "output_type": "stream",
     "text": [
      "Fitting K-Means...\n",
      "Running initialization...\n"
     ]
    },
    {
     "name": "stdout",
     "output_type": "stream",
     "text": [
      "Epoch 0: 100%|██████████| 14/14 [00:05<00:00,  2.75it/s]"
     ]
    },
    {
     "name": "stderr",
     "output_type": "stream",
     "text": [
      "Fitting Gaussian mixture...\n"
     ]
    },
    {
     "name": "stdout",
     "output_type": "stream",
     "text": [
      "\n",
      "Epoch 19: 100%|██████████| 14/14 [00:04<00:00,  2.93it/s, nll=-51.2]"
     ]
    },
    {
     "name": "stderr",
     "output_type": "stream",
     "text": [
      "Fitting K-means estimator...\n"
     ]
    },
    {
     "name": "stdout",
     "output_type": "stream",
     "text": [
      "\n"
     ]
    },
    {
     "name": "stderr",
     "output_type": "stream",
     "text": [
      "Running initialization...\n"
     ]
    },
    {
     "name": "stdout",
     "output_type": "stream",
     "text": [
      "Epoch 16: 100%|██████████| 14/14 [00:06<00:00,  2.29it/s]\n"
     ]
    },
    {
     "name": "stderr",
     "output_type": "stream",
     "text": [
      "Fitting K-Means...\n",
      "Running initialization...\n"
     ]
    },
    {
     "name": "stdout",
     "output_type": "stream",
     "text": [
      "Epoch 0: 100%|██████████| 14/14 [00:05<00:00,  2.72it/s]"
     ]
    },
    {
     "name": "stderr",
     "output_type": "stream",
     "text": [
      "Fitting Gaussian mixture...\n"
     ]
    },
    {
     "name": "stdout",
     "output_type": "stream",
     "text": [
      "\n",
      "Epoch 36: 100%|██████████| 14/14 [00:04<00:00,  2.87it/s, nll=-52.9]"
     ]
    },
    {
     "name": "stderr",
     "output_type": "stream",
     "text": [
      "Fitting K-means estimator...\n"
     ]
    },
    {
     "name": "stdout",
     "output_type": "stream",
     "text": [
      "\n"
     ]
    },
    {
     "name": "stderr",
     "output_type": "stream",
     "text": [
      "Running initialization...\n"
     ]
    },
    {
     "name": "stdout",
     "output_type": "stream",
     "text": [
      "Epoch 18: 100%|██████████| 14/14 [00:06<00:00,  2.29it/s]\n"
     ]
    },
    {
     "name": "stderr",
     "output_type": "stream",
     "text": [
      "Fitting K-Means...\n",
      "Running initialization...\n"
     ]
    },
    {
     "name": "stdout",
     "output_type": "stream",
     "text": [
      "Epoch 0: 100%|██████████| 14/14 [00:05<00:00,  2.72it/s]"
     ]
    },
    {
     "name": "stderr",
     "output_type": "stream",
     "text": [
      "Fitting Gaussian mixture...\n"
     ]
    },
    {
     "name": "stdout",
     "output_type": "stream",
     "text": [
      "\n",
      "Epoch 36: 100%|██████████| 14/14 [00:04<00:00,  2.84it/s, nll=-55.3]"
     ]
    },
    {
     "name": "stderr",
     "output_type": "stream",
     "text": [
      "Fitting K-means estimator...\n"
     ]
    },
    {
     "name": "stdout",
     "output_type": "stream",
     "text": [
      "\n"
     ]
    },
    {
     "name": "stderr",
     "output_type": "stream",
     "text": [
      "Running initialization...\n"
     ]
    },
    {
     "name": "stdout",
     "output_type": "stream",
     "text": [
      "Epoch 20: 100%|██████████| 14/14 [00:06<00:00,  2.28it/s]\n"
     ]
    },
    {
     "name": "stderr",
     "output_type": "stream",
     "text": [
      "Fitting K-Means...\n",
      "Running initialization...\n"
     ]
    },
    {
     "name": "stdout",
     "output_type": "stream",
     "text": [
      "Epoch 0: 100%|██████████| 14/14 [00:05<00:00,  2.71it/s]"
     ]
    },
    {
     "name": "stderr",
     "output_type": "stream",
     "text": [
      "Fitting Gaussian mixture...\n"
     ]
    },
    {
     "name": "stdout",
     "output_type": "stream",
     "text": [
      "\n",
      "Epoch 31: 100%|██████████| 14/14 [00:05<00:00,  2.80it/s, nll=-54.8]"
     ]
    },
    {
     "name": "stderr",
     "output_type": "stream",
     "text": [
      "Fitting K-means estimator...\n"
     ]
    },
    {
     "name": "stdout",
     "output_type": "stream",
     "text": [
      "\n"
     ]
    },
    {
     "name": "stderr",
     "output_type": "stream",
     "text": [
      "Running initialization...\n"
     ]
    },
    {
     "name": "stdout",
     "output_type": "stream",
     "text": [
      "Epoch 22: 100%|██████████| 14/14 [00:06<00:00,  2.28it/s]\n"
     ]
    },
    {
     "name": "stderr",
     "output_type": "stream",
     "text": [
      "Fitting K-Means...\n",
      "Running initialization...\n"
     ]
    },
    {
     "name": "stdout",
     "output_type": "stream",
     "text": [
      "Epoch 0: 100%|██████████| 14/14 [00:05<00:00,  2.69it/s]"
     ]
    },
    {
     "name": "stderr",
     "output_type": "stream",
     "text": [
      "Fitting Gaussian mixture...\n"
     ]
    },
    {
     "name": "stdout",
     "output_type": "stream",
     "text": [
      "\n",
      "Epoch 41: 100%|██████████| 14/14 [00:05<00:00,  2.76it/s, nll=-58.5]"
     ]
    },
    {
     "name": "stderr",
     "output_type": "stream",
     "text": [
      "Fitting K-means estimator...\n"
     ]
    },
    {
     "name": "stdout",
     "output_type": "stream",
     "text": [
      "\n"
     ]
    },
    {
     "name": "stderr",
     "output_type": "stream",
     "text": [
      "Running initialization...\n"
     ]
    },
    {
     "name": "stdout",
     "output_type": "stream",
     "text": [
      "Epoch 24: 100%|██████████| 14/14 [00:06<00:00,  2.27it/s]\n"
     ]
    },
    {
     "name": "stderr",
     "output_type": "stream",
     "text": [
      "Fitting K-Means...\n",
      "Running initialization...\n"
     ]
    },
    {
     "name": "stdout",
     "output_type": "stream",
     "text": [
      "Epoch 0: 100%|██████████| 14/14 [00:05<00:00,  2.69it/s]"
     ]
    },
    {
     "name": "stderr",
     "output_type": "stream",
     "text": [
      "Fitting Gaussian mixture...\n"
     ]
    },
    {
     "name": "stdout",
     "output_type": "stream",
     "text": [
      "\n",
      "Epoch 30: 100%|██████████| 14/14 [00:05<00:00,  2.74it/s, nll=-59.2]\n",
      "Predicting DataLoader 0: 100%|██████████| 14/14 [00:06<00:00,  2.29it/s]\n",
      "Predicting DataLoader 0: 100%|██████████| 14/14 [00:06<00:00,  2.20it/s]\n",
      "Predicting DataLoader 0: 100%|██████████| 14/14 [00:06<00:00,  2.08it/s]\n",
      "Predicting DataLoader 0: 100%|██████████| 14/14 [00:07<00:00,  1.99it/s]\n",
      "Predicting DataLoader 0: 100%|██████████| 14/14 [00:07<00:00,  1.89it/s]\n",
      "Predicting DataLoader 0: 100%|██████████| 14/14 [00:07<00:00,  1.82it/s]\n",
      "Predicting DataLoader 0: 100%|██████████| 14/14 [00:08<00:00,  1.71it/s]\n"
     ]
    }
   ],
   "source": [
    "k_list = [7,8,9,10,11,12,13]\n",
    "estimator_gmms = [GaussianMixture(x, trainer_params=dict(accelerator='gpu', devices=1,\n",
    "                                                       enable_progress_bar = True),\n",
    "                                init_strategy = \"kmeans++\", batch_size = 15000000) for x in k_list]\n",
    "for estimator_gmm in estimator_gmms:\n",
    "    estimator_gmm.fit(torch.from_numpy(X))\n",
    "cluster_id_gmms = [estimator_gmm.predict(torch.from_numpy(X)) for estimator_gmm in estimator_gmms]\n",
    "for k in k_list: \n",
    "    list_i = k - min(k_list)\n",
    "    start_i = 0\n",
    "    sample_cluster_gmm = list()\n",
    "    out_dir = npy_dir+\"gmm\"+str(k)+\"_5k_trained/\"\n",
    "    pathlib.Path(out_dir).mkdir(parents=True, exist_ok=True)\n",
    "\n",
    "    for s_size, region in zip(sample_size, npy_files):\n",
    "        sample_cluster_gmm.append( cluster_id_gmms[list_i][start_i:(start_i+s_size)])\n",
    "        start_i = start_i+s_size\n",
    "\n",
    "    for c_id, region in zip(sample_cluster_gmm, npy_files):\n",
    "        f_name = region.split(\"_50_embeddings\")[0]\n",
    "        t_name = region.split(\"_\")[3].split(\".npy\")[0]\n",
    "        np.savetxt(out_dir+f_name+'_noMeans_'+t_name+'.txt', c_id.numpy().astype(int), fmt=\"%s\")\n"
   ]
  }
 ],
 "metadata": {
  "kernelspec": {
   "display_name": "pycave",
   "language": "python",
   "name": "pycave"
  },
  "language_info": {
   "codemirror_mode": {
    "name": "ipython",
    "version": 3
   },
   "file_extension": ".py",
   "mimetype": "text/x-python",
   "name": "python",
   "nbconvert_exporter": "python",
   "pygments_lexer": "ipython3",
   "version": "3.8.4"
  }
 },
 "nbformat": 4,
 "nbformat_minor": 5
}
